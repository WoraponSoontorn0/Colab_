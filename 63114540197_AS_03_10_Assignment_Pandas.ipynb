{
  "nbformat": 4,
  "nbformat_minor": 0,
  "metadata": {
    "colab": {
      "provenance": []
    },
    "kernelspec": {
      "name": "python3",
      "display_name": "Python 3"
    },
    "language_info": {
      "name": "python"
    }
  },
  "cells": [
    {
      "cell_type": "markdown",
      "metadata": {
        "id": "8At1fXba9dCy"
      },
      "source": [
        "**Q01:** จงสร้าง DataFrame ของข้อมูลภาพยนต์ที่ฉายในโรงภาพยนต์ ซึ่งประกอบด้วย\n",
        "\n",
        "1.รหัสภาพยนต์ (unique id) 2.ชื่อภาพยนต์ 3.วันที่เข้าฉาย 4.ประเภทหนัง 5.ระยะเวลาที่ฉาย\n",
        "\n",
        "เช่น 1001, ETERNALS, 4 November 2021, Action, 160 minutes\n",
        "\n",
        "จำนวนภาพยนต์ 10 เรื่อง โดยให้สร้างจาก dict"
      ]
    },
    {
      "cell_type": "code",
      "metadata": {
        "id": "62g1dIoa_vgG",
        "colab": {
          "base_uri": "https://localhost:8080/",
          "height": 363
        },
        "outputId": "5326952c-2a9f-4a3d-d0c4-d06b61a481a0"
      },
      "source": [
        "import pandas as pd\n",
        "import numpy as np\n",
        "df = pd.DataFrame({'movie_id':[1001, 1002, 1003, 1004, 1005, 1006, 1007, 1008, 1009, 1010],\n",
        "       'movie_name': ['Wild child', 'She’s the Man' , 'A Cinderella Story', 'Easy A', 'Mean Girls','Legally Blonde', 'Bridesmaids' , '50 First Date', '27 Dresses', 'Juno'],\n",
        "       'release_date': ['4 November 2021' , '5 November 2021', '6 November 2021', '7 November 2021','8 November 2021', '9 November 2021' , '10 November 2021', '11 November 2021', '12 November 2021', '13 November 2021'],\n",
        "       'leather_type': ['Romantic', 'Comedy', 'Comedy', 'Sci-Fi', 'Romantic','Romantic', 'Comedy' , 'Romantic', 'Romantic', 'Drama'],\n",
        "       'show_time':['60 minutes', '70 minutes', '72 minutes', '65 minutes', '77 minutes', '69 minutes', '63 minutes', '69 minutes', '60 minutes', '77 minutes']})\n",
        "df.style.hide_index()"
      ],
      "execution_count": null,
      "outputs": [
        {
          "output_type": "execute_result",
          "data": {
            "text/html": [
              "<style  type=\"text/css\" >\n",
              "</style><table id=\"T_7108fb04_4ed6_11ec_89e7_0242ac1c0002\" class=\"dataframe\"><thead>    <tr>        <th class=\"col_heading level0 col0\" >movie_id</th>        <th class=\"col_heading level0 col1\" >movie_name</th>        <th class=\"col_heading level0 col2\" >release_date</th>        <th class=\"col_heading level0 col3\" >leather_type</th>        <th class=\"col_heading level0 col4\" >show_time</th>    </tr></thead><tbody>\n",
              "                <tr>\n",
              "                                <td id=\"T_7108fb04_4ed6_11ec_89e7_0242ac1c0002row0_col0\" class=\"data row0 col0\" >1001</td>\n",
              "                        <td id=\"T_7108fb04_4ed6_11ec_89e7_0242ac1c0002row0_col1\" class=\"data row0 col1\" >Wild child</td>\n",
              "                        <td id=\"T_7108fb04_4ed6_11ec_89e7_0242ac1c0002row0_col2\" class=\"data row0 col2\" >4 November 2021</td>\n",
              "                        <td id=\"T_7108fb04_4ed6_11ec_89e7_0242ac1c0002row0_col3\" class=\"data row0 col3\" >Romantic</td>\n",
              "                        <td id=\"T_7108fb04_4ed6_11ec_89e7_0242ac1c0002row0_col4\" class=\"data row0 col4\" >60 minutes</td>\n",
              "            </tr>\n",
              "            <tr>\n",
              "                                <td id=\"T_7108fb04_4ed6_11ec_89e7_0242ac1c0002row1_col0\" class=\"data row1 col0\" >1002</td>\n",
              "                        <td id=\"T_7108fb04_4ed6_11ec_89e7_0242ac1c0002row1_col1\" class=\"data row1 col1\" >She’s the Man</td>\n",
              "                        <td id=\"T_7108fb04_4ed6_11ec_89e7_0242ac1c0002row1_col2\" class=\"data row1 col2\" >5 November 2021</td>\n",
              "                        <td id=\"T_7108fb04_4ed6_11ec_89e7_0242ac1c0002row1_col3\" class=\"data row1 col3\" >Comedy</td>\n",
              "                        <td id=\"T_7108fb04_4ed6_11ec_89e7_0242ac1c0002row1_col4\" class=\"data row1 col4\" >70 minutes</td>\n",
              "            </tr>\n",
              "            <tr>\n",
              "                                <td id=\"T_7108fb04_4ed6_11ec_89e7_0242ac1c0002row2_col0\" class=\"data row2 col0\" >1003</td>\n",
              "                        <td id=\"T_7108fb04_4ed6_11ec_89e7_0242ac1c0002row2_col1\" class=\"data row2 col1\" >A Cinderella Story</td>\n",
              "                        <td id=\"T_7108fb04_4ed6_11ec_89e7_0242ac1c0002row2_col2\" class=\"data row2 col2\" >6 November 2021</td>\n",
              "                        <td id=\"T_7108fb04_4ed6_11ec_89e7_0242ac1c0002row2_col3\" class=\"data row2 col3\" >Comedy</td>\n",
              "                        <td id=\"T_7108fb04_4ed6_11ec_89e7_0242ac1c0002row2_col4\" class=\"data row2 col4\" >72 minutes</td>\n",
              "            </tr>\n",
              "            <tr>\n",
              "                                <td id=\"T_7108fb04_4ed6_11ec_89e7_0242ac1c0002row3_col0\" class=\"data row3 col0\" >1004</td>\n",
              "                        <td id=\"T_7108fb04_4ed6_11ec_89e7_0242ac1c0002row3_col1\" class=\"data row3 col1\" >Easy A</td>\n",
              "                        <td id=\"T_7108fb04_4ed6_11ec_89e7_0242ac1c0002row3_col2\" class=\"data row3 col2\" >7 November 2021</td>\n",
              "                        <td id=\"T_7108fb04_4ed6_11ec_89e7_0242ac1c0002row3_col3\" class=\"data row3 col3\" >Sci-Fi</td>\n",
              "                        <td id=\"T_7108fb04_4ed6_11ec_89e7_0242ac1c0002row3_col4\" class=\"data row3 col4\" >65 minutes</td>\n",
              "            </tr>\n",
              "            <tr>\n",
              "                                <td id=\"T_7108fb04_4ed6_11ec_89e7_0242ac1c0002row4_col0\" class=\"data row4 col0\" >1005</td>\n",
              "                        <td id=\"T_7108fb04_4ed6_11ec_89e7_0242ac1c0002row4_col1\" class=\"data row4 col1\" >Mean Girls</td>\n",
              "                        <td id=\"T_7108fb04_4ed6_11ec_89e7_0242ac1c0002row4_col2\" class=\"data row4 col2\" >8 November 2021</td>\n",
              "                        <td id=\"T_7108fb04_4ed6_11ec_89e7_0242ac1c0002row4_col3\" class=\"data row4 col3\" >Romantic</td>\n",
              "                        <td id=\"T_7108fb04_4ed6_11ec_89e7_0242ac1c0002row4_col4\" class=\"data row4 col4\" >77 minutes</td>\n",
              "            </tr>\n",
              "            <tr>\n",
              "                                <td id=\"T_7108fb04_4ed6_11ec_89e7_0242ac1c0002row5_col0\" class=\"data row5 col0\" >1006</td>\n",
              "                        <td id=\"T_7108fb04_4ed6_11ec_89e7_0242ac1c0002row5_col1\" class=\"data row5 col1\" >Legally Blonde</td>\n",
              "                        <td id=\"T_7108fb04_4ed6_11ec_89e7_0242ac1c0002row5_col2\" class=\"data row5 col2\" >9 November 2021</td>\n",
              "                        <td id=\"T_7108fb04_4ed6_11ec_89e7_0242ac1c0002row5_col3\" class=\"data row5 col3\" >Romantic</td>\n",
              "                        <td id=\"T_7108fb04_4ed6_11ec_89e7_0242ac1c0002row5_col4\" class=\"data row5 col4\" >69 minutes</td>\n",
              "            </tr>\n",
              "            <tr>\n",
              "                                <td id=\"T_7108fb04_4ed6_11ec_89e7_0242ac1c0002row6_col0\" class=\"data row6 col0\" >1007</td>\n",
              "                        <td id=\"T_7108fb04_4ed6_11ec_89e7_0242ac1c0002row6_col1\" class=\"data row6 col1\" >Bridesmaids</td>\n",
              "                        <td id=\"T_7108fb04_4ed6_11ec_89e7_0242ac1c0002row6_col2\" class=\"data row6 col2\" >10 November 2021</td>\n",
              "                        <td id=\"T_7108fb04_4ed6_11ec_89e7_0242ac1c0002row6_col3\" class=\"data row6 col3\" >Comedy</td>\n",
              "                        <td id=\"T_7108fb04_4ed6_11ec_89e7_0242ac1c0002row6_col4\" class=\"data row6 col4\" >63 minutes</td>\n",
              "            </tr>\n",
              "            <tr>\n",
              "                                <td id=\"T_7108fb04_4ed6_11ec_89e7_0242ac1c0002row7_col0\" class=\"data row7 col0\" >1008</td>\n",
              "                        <td id=\"T_7108fb04_4ed6_11ec_89e7_0242ac1c0002row7_col1\" class=\"data row7 col1\" >50 First Date</td>\n",
              "                        <td id=\"T_7108fb04_4ed6_11ec_89e7_0242ac1c0002row7_col2\" class=\"data row7 col2\" >11 November 2021</td>\n",
              "                        <td id=\"T_7108fb04_4ed6_11ec_89e7_0242ac1c0002row7_col3\" class=\"data row7 col3\" >Romantic</td>\n",
              "                        <td id=\"T_7108fb04_4ed6_11ec_89e7_0242ac1c0002row7_col4\" class=\"data row7 col4\" >69 minutes</td>\n",
              "            </tr>\n",
              "            <tr>\n",
              "                                <td id=\"T_7108fb04_4ed6_11ec_89e7_0242ac1c0002row8_col0\" class=\"data row8 col0\" >1009</td>\n",
              "                        <td id=\"T_7108fb04_4ed6_11ec_89e7_0242ac1c0002row8_col1\" class=\"data row8 col1\" >27 Dresses</td>\n",
              "                        <td id=\"T_7108fb04_4ed6_11ec_89e7_0242ac1c0002row8_col2\" class=\"data row8 col2\" >12 November 2021</td>\n",
              "                        <td id=\"T_7108fb04_4ed6_11ec_89e7_0242ac1c0002row8_col3\" class=\"data row8 col3\" >Romantic</td>\n",
              "                        <td id=\"T_7108fb04_4ed6_11ec_89e7_0242ac1c0002row8_col4\" class=\"data row8 col4\" >60 minutes</td>\n",
              "            </tr>\n",
              "            <tr>\n",
              "                                <td id=\"T_7108fb04_4ed6_11ec_89e7_0242ac1c0002row9_col0\" class=\"data row9 col0\" >1010</td>\n",
              "                        <td id=\"T_7108fb04_4ed6_11ec_89e7_0242ac1c0002row9_col1\" class=\"data row9 col1\" >Juno</td>\n",
              "                        <td id=\"T_7108fb04_4ed6_11ec_89e7_0242ac1c0002row9_col2\" class=\"data row9 col2\" >13 November 2021</td>\n",
              "                        <td id=\"T_7108fb04_4ed6_11ec_89e7_0242ac1c0002row9_col3\" class=\"data row9 col3\" >Drama</td>\n",
              "                        <td id=\"T_7108fb04_4ed6_11ec_89e7_0242ac1c0002row9_col4\" class=\"data row9 col4\" >77 minutes</td>\n",
              "            </tr>\n",
              "    </tbody></table>"
            ],
            "text/plain": [
              "<pandas.io.formats.style.Styler at 0x7fda3e8c7690>"
            ]
          },
          "metadata": {},
          "execution_count": 20
        }
      ]
    },
    {
      "cell_type": "markdown",
      "metadata": {
        "id": "Ddz2_lRoCHLh"
      },
      "source": [
        "**Q02:** จาก DataFrame ที่ได้ใน Q01 ข้างต้น ให้บันทึกข้อมูลลงใน Excel ชื่อ \"Movies.xlsx\" โดยให้ระบุชื่อชีทว่า \"Movie Details\""
      ]
    },
    {
      "cell_type": "code",
      "metadata": {
        "id": "tL07WY93_NrE"
      },
      "source": [
        "import pandas as pd"
      ],
      "execution_count": null,
      "outputs": []
    },
    {
      "cell_type": "code",
      "metadata": {
        "id": "5bc5EWt162e3",
        "colab": {
          "base_uri": "https://localhost:8080/",
          "height": 363
        },
        "outputId": "75536eb1-8939-4082-ba03-b0a073b85343"
      },
      "source": [
        "data = pd.read_excel(\"/content/63114540197.xlsx\",sheet_name=\"Movie Details\")\n",
        "data.style.hide_index()"
      ],
      "execution_count": null,
      "outputs": [
        {
          "output_type": "execute_result",
          "data": {
            "text/html": [
              "<style  type=\"text/css\" >\n",
              "</style><table id=\"T_7b787254_4ed6_11ec_89e7_0242ac1c0002\" class=\"dataframe\"><thead>    <tr>        <th class=\"col_heading level0 col0\" >movie_id</th>        <th class=\"col_heading level0 col1\" >movie_name</th>        <th class=\"col_heading level0 col2\" >release_date</th>        <th class=\"col_heading level0 col3\" >leather_type</th>        <th class=\"col_heading level0 col4\" >show_time</th>    </tr></thead><tbody>\n",
              "                <tr>\n",
              "                                <td id=\"T_7b787254_4ed6_11ec_89e7_0242ac1c0002row0_col0\" class=\"data row0 col0\" >1001</td>\n",
              "                        <td id=\"T_7b787254_4ed6_11ec_89e7_0242ac1c0002row0_col1\" class=\"data row0 col1\" >Wild child</td>\n",
              "                        <td id=\"T_7b787254_4ed6_11ec_89e7_0242ac1c0002row0_col2\" class=\"data row0 col2\" >4 November 2021</td>\n",
              "                        <td id=\"T_7b787254_4ed6_11ec_89e7_0242ac1c0002row0_col3\" class=\"data row0 col3\" >Romantic</td>\n",
              "                        <td id=\"T_7b787254_4ed6_11ec_89e7_0242ac1c0002row0_col4\" class=\"data row0 col4\" >60 minutes</td>\n",
              "            </tr>\n",
              "            <tr>\n",
              "                                <td id=\"T_7b787254_4ed6_11ec_89e7_0242ac1c0002row1_col0\" class=\"data row1 col0\" >1002</td>\n",
              "                        <td id=\"T_7b787254_4ed6_11ec_89e7_0242ac1c0002row1_col1\" class=\"data row1 col1\" >She’s the Man</td>\n",
              "                        <td id=\"T_7b787254_4ed6_11ec_89e7_0242ac1c0002row1_col2\" class=\"data row1 col2\" >5 November 2021</td>\n",
              "                        <td id=\"T_7b787254_4ed6_11ec_89e7_0242ac1c0002row1_col3\" class=\"data row1 col3\" >Comedy</td>\n",
              "                        <td id=\"T_7b787254_4ed6_11ec_89e7_0242ac1c0002row1_col4\" class=\"data row1 col4\" >70 minutes</td>\n",
              "            </tr>\n",
              "            <tr>\n",
              "                                <td id=\"T_7b787254_4ed6_11ec_89e7_0242ac1c0002row2_col0\" class=\"data row2 col0\" >1003</td>\n",
              "                        <td id=\"T_7b787254_4ed6_11ec_89e7_0242ac1c0002row2_col1\" class=\"data row2 col1\" >A Cinderella Story</td>\n",
              "                        <td id=\"T_7b787254_4ed6_11ec_89e7_0242ac1c0002row2_col2\" class=\"data row2 col2\" >6 November 2021</td>\n",
              "                        <td id=\"T_7b787254_4ed6_11ec_89e7_0242ac1c0002row2_col3\" class=\"data row2 col3\" >Comedy</td>\n",
              "                        <td id=\"T_7b787254_4ed6_11ec_89e7_0242ac1c0002row2_col4\" class=\"data row2 col4\" >72 minutes</td>\n",
              "            </tr>\n",
              "            <tr>\n",
              "                                <td id=\"T_7b787254_4ed6_11ec_89e7_0242ac1c0002row3_col0\" class=\"data row3 col0\" >1004</td>\n",
              "                        <td id=\"T_7b787254_4ed6_11ec_89e7_0242ac1c0002row3_col1\" class=\"data row3 col1\" >Easy A</td>\n",
              "                        <td id=\"T_7b787254_4ed6_11ec_89e7_0242ac1c0002row3_col2\" class=\"data row3 col2\" >7 November 2021</td>\n",
              "                        <td id=\"T_7b787254_4ed6_11ec_89e7_0242ac1c0002row3_col3\" class=\"data row3 col3\" >Sci-Fi</td>\n",
              "                        <td id=\"T_7b787254_4ed6_11ec_89e7_0242ac1c0002row3_col4\" class=\"data row3 col4\" >65 minutes</td>\n",
              "            </tr>\n",
              "            <tr>\n",
              "                                <td id=\"T_7b787254_4ed6_11ec_89e7_0242ac1c0002row4_col0\" class=\"data row4 col0\" >1005</td>\n",
              "                        <td id=\"T_7b787254_4ed6_11ec_89e7_0242ac1c0002row4_col1\" class=\"data row4 col1\" >Mean Girls</td>\n",
              "                        <td id=\"T_7b787254_4ed6_11ec_89e7_0242ac1c0002row4_col2\" class=\"data row4 col2\" >8 November 2021</td>\n",
              "                        <td id=\"T_7b787254_4ed6_11ec_89e7_0242ac1c0002row4_col3\" class=\"data row4 col3\" >Romantic</td>\n",
              "                        <td id=\"T_7b787254_4ed6_11ec_89e7_0242ac1c0002row4_col4\" class=\"data row4 col4\" >77 minutes</td>\n",
              "            </tr>\n",
              "            <tr>\n",
              "                                <td id=\"T_7b787254_4ed6_11ec_89e7_0242ac1c0002row5_col0\" class=\"data row5 col0\" >1006</td>\n",
              "                        <td id=\"T_7b787254_4ed6_11ec_89e7_0242ac1c0002row5_col1\" class=\"data row5 col1\" >Legally Blonde</td>\n",
              "                        <td id=\"T_7b787254_4ed6_11ec_89e7_0242ac1c0002row5_col2\" class=\"data row5 col2\" >9 November 2021</td>\n",
              "                        <td id=\"T_7b787254_4ed6_11ec_89e7_0242ac1c0002row5_col3\" class=\"data row5 col3\" >Romantic</td>\n",
              "                        <td id=\"T_7b787254_4ed6_11ec_89e7_0242ac1c0002row5_col4\" class=\"data row5 col4\" >69 minutes</td>\n",
              "            </tr>\n",
              "            <tr>\n",
              "                                <td id=\"T_7b787254_4ed6_11ec_89e7_0242ac1c0002row6_col0\" class=\"data row6 col0\" >1007</td>\n",
              "                        <td id=\"T_7b787254_4ed6_11ec_89e7_0242ac1c0002row6_col1\" class=\"data row6 col1\" >Bridesmaids</td>\n",
              "                        <td id=\"T_7b787254_4ed6_11ec_89e7_0242ac1c0002row6_col2\" class=\"data row6 col2\" >10 November 2021</td>\n",
              "                        <td id=\"T_7b787254_4ed6_11ec_89e7_0242ac1c0002row6_col3\" class=\"data row6 col3\" >Comedy</td>\n",
              "                        <td id=\"T_7b787254_4ed6_11ec_89e7_0242ac1c0002row6_col4\" class=\"data row6 col4\" >63 minutes</td>\n",
              "            </tr>\n",
              "            <tr>\n",
              "                                <td id=\"T_7b787254_4ed6_11ec_89e7_0242ac1c0002row7_col0\" class=\"data row7 col0\" >1008</td>\n",
              "                        <td id=\"T_7b787254_4ed6_11ec_89e7_0242ac1c0002row7_col1\" class=\"data row7 col1\" >50 First Date</td>\n",
              "                        <td id=\"T_7b787254_4ed6_11ec_89e7_0242ac1c0002row7_col2\" class=\"data row7 col2\" >11 November 2021</td>\n",
              "                        <td id=\"T_7b787254_4ed6_11ec_89e7_0242ac1c0002row7_col3\" class=\"data row7 col3\" >Romantic</td>\n",
              "                        <td id=\"T_7b787254_4ed6_11ec_89e7_0242ac1c0002row7_col4\" class=\"data row7 col4\" >69 minutes</td>\n",
              "            </tr>\n",
              "            <tr>\n",
              "                                <td id=\"T_7b787254_4ed6_11ec_89e7_0242ac1c0002row8_col0\" class=\"data row8 col0\" >1009</td>\n",
              "                        <td id=\"T_7b787254_4ed6_11ec_89e7_0242ac1c0002row8_col1\" class=\"data row8 col1\" >27 Dresses</td>\n",
              "                        <td id=\"T_7b787254_4ed6_11ec_89e7_0242ac1c0002row8_col2\" class=\"data row8 col2\" >12 November 2021</td>\n",
              "                        <td id=\"T_7b787254_4ed6_11ec_89e7_0242ac1c0002row8_col3\" class=\"data row8 col3\" >Romantic</td>\n",
              "                        <td id=\"T_7b787254_4ed6_11ec_89e7_0242ac1c0002row8_col4\" class=\"data row8 col4\" >60 minutes</td>\n",
              "            </tr>\n",
              "            <tr>\n",
              "                                <td id=\"T_7b787254_4ed6_11ec_89e7_0242ac1c0002row9_col0\" class=\"data row9 col0\" >1010</td>\n",
              "                        <td id=\"T_7b787254_4ed6_11ec_89e7_0242ac1c0002row9_col1\" class=\"data row9 col1\" >Juno</td>\n",
              "                        <td id=\"T_7b787254_4ed6_11ec_89e7_0242ac1c0002row9_col2\" class=\"data row9 col2\" >13 November 2021</td>\n",
              "                        <td id=\"T_7b787254_4ed6_11ec_89e7_0242ac1c0002row9_col3\" class=\"data row9 col3\" >Drama</td>\n",
              "                        <td id=\"T_7b787254_4ed6_11ec_89e7_0242ac1c0002row9_col4\" class=\"data row9 col4\" >77 minutes</td>\n",
              "            </tr>\n",
              "    </tbody></table>"
            ],
            "text/plain": [
              "<pandas.io.formats.style.Styler at 0x7fda3e4772d0>"
            ]
          },
          "metadata": {},
          "execution_count": 22
        }
      ]
    },
    {
      "cell_type": "markdown",
      "metadata": {
        "id": "gYwLi0fnBkNa"
      },
      "source": [
        "**Q03:** จาก DataFrame ที่ได้ใน Q02 ข้างต้น ให้สร้างชีทใหม่ชื่อ \"Showtime\" ประกอบด้วยข้อมูลที่ได้มาจากชีท \"Movie Details\" 3 คอลัมน์ ได้แก่ รหัสภาพยนต์ ประเภทหนัง และระยะเวลาที่ฉาย โดยให้เพิ่มข้อมูลใหม่ 3 คอลัมน์ ได้แก่ จำนวนรอบที่ฉาย/วัน เวลาที่ฉาย และจำนวนการจองที่นั่ง โดยให้บันทึกข้อมูลลงในไฟล์ \"Movies.xlsx\" เดิม\n",
        "\n",
        "Note: แต่ละรหัสภาพยนต์ สามารถมีเวลาที่ฉายได้มากกว่า 1 เวลา ตัวอย่างเช่น\n",
        "\n",
        "1001, Action, 160, 3, 12.00; 1001, Action, 160, 3, 15.20; 1001, Action, 160, 3, 18.40"
      ]
    },
    {
      "cell_type": "code",
      "metadata": {
        "colab": {
          "base_uri": "https://localhost:8080/",
          "height": 363
        },
        "id": "5KEDIb5kImHk",
        "outputId": "fa43aaf7-af63-44fc-a0f1-912228656ab6"
      },
      "source": [
        "data1 = pd.read_excel(\"/content/63114540197.xlsx\",sheet_name=\"Showtime\")\n",
        "data1.style.hide_index()"
      ],
      "execution_count": null,
      "outputs": [
        {
          "output_type": "execute_result",
          "data": {
            "text/html": [
              "<style  type=\"text/css\" >\n",
              "</style><table id=\"T_6154a1f2_4ed8_11ec_89e7_0242ac1c0002\" class=\"dataframe\"><thead>    <tr>        <th class=\"col_heading level0 col0\" >movie_id</th>        <th class=\"col_heading level0 col1\" >movie_name</th>        <th class=\"col_heading level0 col2\" >release_date</th>        <th class=\"col_heading level0 col3\" >leather_type</th>        <th class=\"col_heading level0 col4\" >show_time</th>        <th class=\"col_heading level0 col5\" >Number_day</th>        <th class=\"col_heading level0 col6\" >movie_time</th>        <th class=\"col_heading level0 col7\" >reserve_seat</th>    </tr></thead><tbody>\n",
              "                <tr>\n",
              "                                <td id=\"T_6154a1f2_4ed8_11ec_89e7_0242ac1c0002row0_col0\" class=\"data row0 col0\" >1001</td>\n",
              "                        <td id=\"T_6154a1f2_4ed8_11ec_89e7_0242ac1c0002row0_col1\" class=\"data row0 col1\" >Wild child</td>\n",
              "                        <td id=\"T_6154a1f2_4ed8_11ec_89e7_0242ac1c0002row0_col2\" class=\"data row0 col2\" >4 November 2021</td>\n",
              "                        <td id=\"T_6154a1f2_4ed8_11ec_89e7_0242ac1c0002row0_col3\" class=\"data row0 col3\" >Romantic</td>\n",
              "                        <td id=\"T_6154a1f2_4ed8_11ec_89e7_0242ac1c0002row0_col4\" class=\"data row0 col4\" >60 minutes</td>\n",
              "                        <td id=\"T_6154a1f2_4ed8_11ec_89e7_0242ac1c0002row0_col5\" class=\"data row0 col5\" >1 round</td>\n",
              "                        <td id=\"T_6154a1f2_4ed8_11ec_89e7_0242ac1c0002row0_col6\" class=\"data row0 col6\" >12.00 pm</td>\n",
              "                        <td id=\"T_6154a1f2_4ed8_11ec_89e7_0242ac1c0002row0_col7\" class=\"data row0 col7\" >2 seat</td>\n",
              "            </tr>\n",
              "            <tr>\n",
              "                                <td id=\"T_6154a1f2_4ed8_11ec_89e7_0242ac1c0002row1_col0\" class=\"data row1 col0\" >1002</td>\n",
              "                        <td id=\"T_6154a1f2_4ed8_11ec_89e7_0242ac1c0002row1_col1\" class=\"data row1 col1\" >She’s the Man</td>\n",
              "                        <td id=\"T_6154a1f2_4ed8_11ec_89e7_0242ac1c0002row1_col2\" class=\"data row1 col2\" >5 November 2021</td>\n",
              "                        <td id=\"T_6154a1f2_4ed8_11ec_89e7_0242ac1c0002row1_col3\" class=\"data row1 col3\" >Comedy</td>\n",
              "                        <td id=\"T_6154a1f2_4ed8_11ec_89e7_0242ac1c0002row1_col4\" class=\"data row1 col4\" >70 minutes</td>\n",
              "                        <td id=\"T_6154a1f2_4ed8_11ec_89e7_0242ac1c0002row1_col5\" class=\"data row1 col5\" >1 round</td>\n",
              "                        <td id=\"T_6154a1f2_4ed8_11ec_89e7_0242ac1c0002row1_col6\" class=\"data row1 col6\" >12.00 pm</td>\n",
              "                        <td id=\"T_6154a1f2_4ed8_11ec_89e7_0242ac1c0002row1_col7\" class=\"data row1 col7\" >4 seat</td>\n",
              "            </tr>\n",
              "            <tr>\n",
              "                                <td id=\"T_6154a1f2_4ed8_11ec_89e7_0242ac1c0002row2_col0\" class=\"data row2 col0\" >1003</td>\n",
              "                        <td id=\"T_6154a1f2_4ed8_11ec_89e7_0242ac1c0002row2_col1\" class=\"data row2 col1\" >A Cinderella Story</td>\n",
              "                        <td id=\"T_6154a1f2_4ed8_11ec_89e7_0242ac1c0002row2_col2\" class=\"data row2 col2\" >6 November 2021</td>\n",
              "                        <td id=\"T_6154a1f2_4ed8_11ec_89e7_0242ac1c0002row2_col3\" class=\"data row2 col3\" >Comedy</td>\n",
              "                        <td id=\"T_6154a1f2_4ed8_11ec_89e7_0242ac1c0002row2_col4\" class=\"data row2 col4\" >72 minutes</td>\n",
              "                        <td id=\"T_6154a1f2_4ed8_11ec_89e7_0242ac1c0002row2_col5\" class=\"data row2 col5\" >1 round</td>\n",
              "                        <td id=\"T_6154a1f2_4ed8_11ec_89e7_0242ac1c0002row2_col6\" class=\"data row2 col6\" >12.00 pm</td>\n",
              "                        <td id=\"T_6154a1f2_4ed8_11ec_89e7_0242ac1c0002row2_col7\" class=\"data row2 col7\" >6 seat</td>\n",
              "            </tr>\n",
              "            <tr>\n",
              "                                <td id=\"T_6154a1f2_4ed8_11ec_89e7_0242ac1c0002row3_col0\" class=\"data row3 col0\" >1004</td>\n",
              "                        <td id=\"T_6154a1f2_4ed8_11ec_89e7_0242ac1c0002row3_col1\" class=\"data row3 col1\" >Easy A</td>\n",
              "                        <td id=\"T_6154a1f2_4ed8_11ec_89e7_0242ac1c0002row3_col2\" class=\"data row3 col2\" >7 November 2021</td>\n",
              "                        <td id=\"T_6154a1f2_4ed8_11ec_89e7_0242ac1c0002row3_col3\" class=\"data row3 col3\" >Sci-Fi</td>\n",
              "                        <td id=\"T_6154a1f2_4ed8_11ec_89e7_0242ac1c0002row3_col4\" class=\"data row3 col4\" >65 minutes</td>\n",
              "                        <td id=\"T_6154a1f2_4ed8_11ec_89e7_0242ac1c0002row3_col5\" class=\"data row3 col5\" >1 round</td>\n",
              "                        <td id=\"T_6154a1f2_4ed8_11ec_89e7_0242ac1c0002row3_col6\" class=\"data row3 col6\" >12.00 pm</td>\n",
              "                        <td id=\"T_6154a1f2_4ed8_11ec_89e7_0242ac1c0002row3_col7\" class=\"data row3 col7\" >2 seat</td>\n",
              "            </tr>\n",
              "            <tr>\n",
              "                                <td id=\"T_6154a1f2_4ed8_11ec_89e7_0242ac1c0002row4_col0\" class=\"data row4 col0\" >1005</td>\n",
              "                        <td id=\"T_6154a1f2_4ed8_11ec_89e7_0242ac1c0002row4_col1\" class=\"data row4 col1\" >Mean Girls</td>\n",
              "                        <td id=\"T_6154a1f2_4ed8_11ec_89e7_0242ac1c0002row4_col2\" class=\"data row4 col2\" >8 November 2021</td>\n",
              "                        <td id=\"T_6154a1f2_4ed8_11ec_89e7_0242ac1c0002row4_col3\" class=\"data row4 col3\" >Romantic</td>\n",
              "                        <td id=\"T_6154a1f2_4ed8_11ec_89e7_0242ac1c0002row4_col4\" class=\"data row4 col4\" >77 minutes</td>\n",
              "                        <td id=\"T_6154a1f2_4ed8_11ec_89e7_0242ac1c0002row4_col5\" class=\"data row4 col5\" >1 round</td>\n",
              "                        <td id=\"T_6154a1f2_4ed8_11ec_89e7_0242ac1c0002row4_col6\" class=\"data row4 col6\" >12.00 pm</td>\n",
              "                        <td id=\"T_6154a1f2_4ed8_11ec_89e7_0242ac1c0002row4_col7\" class=\"data row4 col7\" >4 seat</td>\n",
              "            </tr>\n",
              "            <tr>\n",
              "                                <td id=\"T_6154a1f2_4ed8_11ec_89e7_0242ac1c0002row5_col0\" class=\"data row5 col0\" >1006</td>\n",
              "                        <td id=\"T_6154a1f2_4ed8_11ec_89e7_0242ac1c0002row5_col1\" class=\"data row5 col1\" >Legally Blonde</td>\n",
              "                        <td id=\"T_6154a1f2_4ed8_11ec_89e7_0242ac1c0002row5_col2\" class=\"data row5 col2\" >9 November 2021</td>\n",
              "                        <td id=\"T_6154a1f2_4ed8_11ec_89e7_0242ac1c0002row5_col3\" class=\"data row5 col3\" >Romantic</td>\n",
              "                        <td id=\"T_6154a1f2_4ed8_11ec_89e7_0242ac1c0002row5_col4\" class=\"data row5 col4\" >69 minutes</td>\n",
              "                        <td id=\"T_6154a1f2_4ed8_11ec_89e7_0242ac1c0002row5_col5\" class=\"data row5 col5\" >1 round</td>\n",
              "                        <td id=\"T_6154a1f2_4ed8_11ec_89e7_0242ac1c0002row5_col6\" class=\"data row5 col6\" >12.00 pm</td>\n",
              "                        <td id=\"T_6154a1f2_4ed8_11ec_89e7_0242ac1c0002row5_col7\" class=\"data row5 col7\" >6 seat</td>\n",
              "            </tr>\n",
              "            <tr>\n",
              "                                <td id=\"T_6154a1f2_4ed8_11ec_89e7_0242ac1c0002row6_col0\" class=\"data row6 col0\" >1007</td>\n",
              "                        <td id=\"T_6154a1f2_4ed8_11ec_89e7_0242ac1c0002row6_col1\" class=\"data row6 col1\" >Bridesmaids</td>\n",
              "                        <td id=\"T_6154a1f2_4ed8_11ec_89e7_0242ac1c0002row6_col2\" class=\"data row6 col2\" >10 November 2021</td>\n",
              "                        <td id=\"T_6154a1f2_4ed8_11ec_89e7_0242ac1c0002row6_col3\" class=\"data row6 col3\" >Comedy</td>\n",
              "                        <td id=\"T_6154a1f2_4ed8_11ec_89e7_0242ac1c0002row6_col4\" class=\"data row6 col4\" >63 minutes</td>\n",
              "                        <td id=\"T_6154a1f2_4ed8_11ec_89e7_0242ac1c0002row6_col5\" class=\"data row6 col5\" >1 round</td>\n",
              "                        <td id=\"T_6154a1f2_4ed8_11ec_89e7_0242ac1c0002row6_col6\" class=\"data row6 col6\" >12.00 pm</td>\n",
              "                        <td id=\"T_6154a1f2_4ed8_11ec_89e7_0242ac1c0002row6_col7\" class=\"data row6 col7\" >2 seat</td>\n",
              "            </tr>\n",
              "            <tr>\n",
              "                                <td id=\"T_6154a1f2_4ed8_11ec_89e7_0242ac1c0002row7_col0\" class=\"data row7 col0\" >1008</td>\n",
              "                        <td id=\"T_6154a1f2_4ed8_11ec_89e7_0242ac1c0002row7_col1\" class=\"data row7 col1\" >50 First Date</td>\n",
              "                        <td id=\"T_6154a1f2_4ed8_11ec_89e7_0242ac1c0002row7_col2\" class=\"data row7 col2\" >11 November 2021</td>\n",
              "                        <td id=\"T_6154a1f2_4ed8_11ec_89e7_0242ac1c0002row7_col3\" class=\"data row7 col3\" >Romantic</td>\n",
              "                        <td id=\"T_6154a1f2_4ed8_11ec_89e7_0242ac1c0002row7_col4\" class=\"data row7 col4\" >69 minutes</td>\n",
              "                        <td id=\"T_6154a1f2_4ed8_11ec_89e7_0242ac1c0002row7_col5\" class=\"data row7 col5\" >1 round</td>\n",
              "                        <td id=\"T_6154a1f2_4ed8_11ec_89e7_0242ac1c0002row7_col6\" class=\"data row7 col6\" >12.00 pm</td>\n",
              "                        <td id=\"T_6154a1f2_4ed8_11ec_89e7_0242ac1c0002row7_col7\" class=\"data row7 col7\" >4 seat</td>\n",
              "            </tr>\n",
              "            <tr>\n",
              "                                <td id=\"T_6154a1f2_4ed8_11ec_89e7_0242ac1c0002row8_col0\" class=\"data row8 col0\" >1009</td>\n",
              "                        <td id=\"T_6154a1f2_4ed8_11ec_89e7_0242ac1c0002row8_col1\" class=\"data row8 col1\" >27 Dresses</td>\n",
              "                        <td id=\"T_6154a1f2_4ed8_11ec_89e7_0242ac1c0002row8_col2\" class=\"data row8 col2\" >12 November 2021</td>\n",
              "                        <td id=\"T_6154a1f2_4ed8_11ec_89e7_0242ac1c0002row8_col3\" class=\"data row8 col3\" >Romantic</td>\n",
              "                        <td id=\"T_6154a1f2_4ed8_11ec_89e7_0242ac1c0002row8_col4\" class=\"data row8 col4\" >60 minutes</td>\n",
              "                        <td id=\"T_6154a1f2_4ed8_11ec_89e7_0242ac1c0002row8_col5\" class=\"data row8 col5\" >1 round</td>\n",
              "                        <td id=\"T_6154a1f2_4ed8_11ec_89e7_0242ac1c0002row8_col6\" class=\"data row8 col6\" >12.00 pm</td>\n",
              "                        <td id=\"T_6154a1f2_4ed8_11ec_89e7_0242ac1c0002row8_col7\" class=\"data row8 col7\" >6 seat</td>\n",
              "            </tr>\n",
              "            <tr>\n",
              "                                <td id=\"T_6154a1f2_4ed8_11ec_89e7_0242ac1c0002row9_col0\" class=\"data row9 col0\" >1010</td>\n",
              "                        <td id=\"T_6154a1f2_4ed8_11ec_89e7_0242ac1c0002row9_col1\" class=\"data row9 col1\" >Juno</td>\n",
              "                        <td id=\"T_6154a1f2_4ed8_11ec_89e7_0242ac1c0002row9_col2\" class=\"data row9 col2\" >13 November 2021</td>\n",
              "                        <td id=\"T_6154a1f2_4ed8_11ec_89e7_0242ac1c0002row9_col3\" class=\"data row9 col3\" >Drama</td>\n",
              "                        <td id=\"T_6154a1f2_4ed8_11ec_89e7_0242ac1c0002row9_col4\" class=\"data row9 col4\" >77 minutes</td>\n",
              "                        <td id=\"T_6154a1f2_4ed8_11ec_89e7_0242ac1c0002row9_col5\" class=\"data row9 col5\" >1 round</td>\n",
              "                        <td id=\"T_6154a1f2_4ed8_11ec_89e7_0242ac1c0002row9_col6\" class=\"data row9 col6\" >12.00 pm</td>\n",
              "                        <td id=\"T_6154a1f2_4ed8_11ec_89e7_0242ac1c0002row9_col7\" class=\"data row9 col7\" >2 seat</td>\n",
              "            </tr>\n",
              "    </tbody></table>"
            ],
            "text/plain": [
              "<pandas.io.formats.style.Styler at 0x7fda3f04dc50>"
            ]
          },
          "metadata": {},
          "execution_count": 41
        }
      ]
    },
    {
      "cell_type": "code",
      "metadata": {
        "colab": {
          "base_uri": "https://localhost:8080/",
          "height": 363
        },
        "id": "z7ddjBg_8sxR",
        "outputId": "c36bcd3f-2d89-4b53-8c04-d376e60df910"
      },
      "source": [
        "my = ['movie_id','leather_type','show_time','reserve_movie','movie_time']\n",
        "data[my].style.hide_index()"
      ],
      "execution_count": null,
      "outputs": [
        {
          "output_type": "execute_result",
          "data": {
            "text/html": [
              "<style  type=\"text/css\" >\n",
              "</style><table id=\"T_73cadbbc_4ed8_11ec_89e7_0242ac1c0002\" class=\"dataframe\"><thead>    <tr>        <th class=\"col_heading level0 col0\" >movie_id</th>        <th class=\"col_heading level0 col1\" >leather_type</th>        <th class=\"col_heading level0 col2\" >show_time</th>        <th class=\"col_heading level0 col3\" >reserve_movie</th>        <th class=\"col_heading level0 col4\" >movie_time</th>    </tr></thead><tbody>\n",
              "                <tr>\n",
              "                                <td id=\"T_73cadbbc_4ed8_11ec_89e7_0242ac1c0002row0_col0\" class=\"data row0 col0\" >1001</td>\n",
              "                        <td id=\"T_73cadbbc_4ed8_11ec_89e7_0242ac1c0002row0_col1\" class=\"data row0 col1\" >Romantic</td>\n",
              "                        <td id=\"T_73cadbbc_4ed8_11ec_89e7_0242ac1c0002row0_col2\" class=\"data row0 col2\" >60 minutes</td>\n",
              "                        <td id=\"T_73cadbbc_4ed8_11ec_89e7_0242ac1c0002row0_col3\" class=\"data row0 col3\" >22 seat</td>\n",
              "                        <td id=\"T_73cadbbc_4ed8_11ec_89e7_0242ac1c0002row0_col4\" class=\"data row0 col4\" >12.00 pm</td>\n",
              "            </tr>\n",
              "            <tr>\n",
              "                                <td id=\"T_73cadbbc_4ed8_11ec_89e7_0242ac1c0002row1_col0\" class=\"data row1 col0\" >1002</td>\n",
              "                        <td id=\"T_73cadbbc_4ed8_11ec_89e7_0242ac1c0002row1_col1\" class=\"data row1 col1\" >Comedy</td>\n",
              "                        <td id=\"T_73cadbbc_4ed8_11ec_89e7_0242ac1c0002row1_col2\" class=\"data row1 col2\" >70 minutes</td>\n",
              "                        <td id=\"T_73cadbbc_4ed8_11ec_89e7_0242ac1c0002row1_col3\" class=\"data row1 col3\" >14 seat</td>\n",
              "                        <td id=\"T_73cadbbc_4ed8_11ec_89e7_0242ac1c0002row1_col4\" class=\"data row1 col4\" >12.00 pm</td>\n",
              "            </tr>\n",
              "            <tr>\n",
              "                                <td id=\"T_73cadbbc_4ed8_11ec_89e7_0242ac1c0002row2_col0\" class=\"data row2 col0\" >1003</td>\n",
              "                        <td id=\"T_73cadbbc_4ed8_11ec_89e7_0242ac1c0002row2_col1\" class=\"data row2 col1\" >Comedy</td>\n",
              "                        <td id=\"T_73cadbbc_4ed8_11ec_89e7_0242ac1c0002row2_col2\" class=\"data row2 col2\" >72 minutes</td>\n",
              "                        <td id=\"T_73cadbbc_4ed8_11ec_89e7_0242ac1c0002row2_col3\" class=\"data row2 col3\" >36 seat</td>\n",
              "                        <td id=\"T_73cadbbc_4ed8_11ec_89e7_0242ac1c0002row2_col4\" class=\"data row2 col4\" >12.00 pm</td>\n",
              "            </tr>\n",
              "            <tr>\n",
              "                                <td id=\"T_73cadbbc_4ed8_11ec_89e7_0242ac1c0002row3_col0\" class=\"data row3 col0\" >1004</td>\n",
              "                        <td id=\"T_73cadbbc_4ed8_11ec_89e7_0242ac1c0002row3_col1\" class=\"data row3 col1\" >Sci-Fi</td>\n",
              "                        <td id=\"T_73cadbbc_4ed8_11ec_89e7_0242ac1c0002row3_col2\" class=\"data row3 col2\" >65 minutes</td>\n",
              "                        <td id=\"T_73cadbbc_4ed8_11ec_89e7_0242ac1c0002row3_col3\" class=\"data row3 col3\" >42 seat</td>\n",
              "                        <td id=\"T_73cadbbc_4ed8_11ec_89e7_0242ac1c0002row3_col4\" class=\"data row3 col4\" >12.00 pm</td>\n",
              "            </tr>\n",
              "            <tr>\n",
              "                                <td id=\"T_73cadbbc_4ed8_11ec_89e7_0242ac1c0002row4_col0\" class=\"data row4 col0\" >1005</td>\n",
              "                        <td id=\"T_73cadbbc_4ed8_11ec_89e7_0242ac1c0002row4_col1\" class=\"data row4 col1\" >Romantic</td>\n",
              "                        <td id=\"T_73cadbbc_4ed8_11ec_89e7_0242ac1c0002row4_col2\" class=\"data row4 col2\" >77 minutes</td>\n",
              "                        <td id=\"T_73cadbbc_4ed8_11ec_89e7_0242ac1c0002row4_col3\" class=\"data row4 col3\" >34 seat</td>\n",
              "                        <td id=\"T_73cadbbc_4ed8_11ec_89e7_0242ac1c0002row4_col4\" class=\"data row4 col4\" >12.00 pm</td>\n",
              "            </tr>\n",
              "            <tr>\n",
              "                                <td id=\"T_73cadbbc_4ed8_11ec_89e7_0242ac1c0002row5_col0\" class=\"data row5 col0\" >1006</td>\n",
              "                        <td id=\"T_73cadbbc_4ed8_11ec_89e7_0242ac1c0002row5_col1\" class=\"data row5 col1\" >Romantic</td>\n",
              "                        <td id=\"T_73cadbbc_4ed8_11ec_89e7_0242ac1c0002row5_col2\" class=\"data row5 col2\" >69 minutes</td>\n",
              "                        <td id=\"T_73cadbbc_4ed8_11ec_89e7_0242ac1c0002row5_col3\" class=\"data row5 col3\" >46 seat</td>\n",
              "                        <td id=\"T_73cadbbc_4ed8_11ec_89e7_0242ac1c0002row5_col4\" class=\"data row5 col4\" >12.00 pm</td>\n",
              "            </tr>\n",
              "            <tr>\n",
              "                                <td id=\"T_73cadbbc_4ed8_11ec_89e7_0242ac1c0002row6_col0\" class=\"data row6 col0\" >1007</td>\n",
              "                        <td id=\"T_73cadbbc_4ed8_11ec_89e7_0242ac1c0002row6_col1\" class=\"data row6 col1\" >Comedy</td>\n",
              "                        <td id=\"T_73cadbbc_4ed8_11ec_89e7_0242ac1c0002row6_col2\" class=\"data row6 col2\" >63 minutes</td>\n",
              "                        <td id=\"T_73cadbbc_4ed8_11ec_89e7_0242ac1c0002row6_col3\" class=\"data row6 col3\" >22 seat</td>\n",
              "                        <td id=\"T_73cadbbc_4ed8_11ec_89e7_0242ac1c0002row6_col4\" class=\"data row6 col4\" >12.00 pm</td>\n",
              "            </tr>\n",
              "            <tr>\n",
              "                                <td id=\"T_73cadbbc_4ed8_11ec_89e7_0242ac1c0002row7_col0\" class=\"data row7 col0\" >1008</td>\n",
              "                        <td id=\"T_73cadbbc_4ed8_11ec_89e7_0242ac1c0002row7_col1\" class=\"data row7 col1\" >Romantic</td>\n",
              "                        <td id=\"T_73cadbbc_4ed8_11ec_89e7_0242ac1c0002row7_col2\" class=\"data row7 col2\" >69 minutes</td>\n",
              "                        <td id=\"T_73cadbbc_4ed8_11ec_89e7_0242ac1c0002row7_col3\" class=\"data row7 col3\" >14 seat</td>\n",
              "                        <td id=\"T_73cadbbc_4ed8_11ec_89e7_0242ac1c0002row7_col4\" class=\"data row7 col4\" >12.00 pm</td>\n",
              "            </tr>\n",
              "            <tr>\n",
              "                                <td id=\"T_73cadbbc_4ed8_11ec_89e7_0242ac1c0002row8_col0\" class=\"data row8 col0\" >1009</td>\n",
              "                        <td id=\"T_73cadbbc_4ed8_11ec_89e7_0242ac1c0002row8_col1\" class=\"data row8 col1\" >Romantic</td>\n",
              "                        <td id=\"T_73cadbbc_4ed8_11ec_89e7_0242ac1c0002row8_col2\" class=\"data row8 col2\" >60 minutes</td>\n",
              "                        <td id=\"T_73cadbbc_4ed8_11ec_89e7_0242ac1c0002row8_col3\" class=\"data row8 col3\" >16 seat</td>\n",
              "                        <td id=\"T_73cadbbc_4ed8_11ec_89e7_0242ac1c0002row8_col4\" class=\"data row8 col4\" >12.00 pm</td>\n",
              "            </tr>\n",
              "            <tr>\n",
              "                                <td id=\"T_73cadbbc_4ed8_11ec_89e7_0242ac1c0002row9_col0\" class=\"data row9 col0\" >1010</td>\n",
              "                        <td id=\"T_73cadbbc_4ed8_11ec_89e7_0242ac1c0002row9_col1\" class=\"data row9 col1\" >Drama</td>\n",
              "                        <td id=\"T_73cadbbc_4ed8_11ec_89e7_0242ac1c0002row9_col2\" class=\"data row9 col2\" >77 minutes</td>\n",
              "                        <td id=\"T_73cadbbc_4ed8_11ec_89e7_0242ac1c0002row9_col3\" class=\"data row9 col3\" >32 seat</td>\n",
              "                        <td id=\"T_73cadbbc_4ed8_11ec_89e7_0242ac1c0002row9_col4\" class=\"data row9 col4\" >12.00 pm</td>\n",
              "            </tr>\n",
              "    </tbody></table>"
            ],
            "text/plain": [
              "<pandas.io.formats.style.Styler at 0x7fda3de58190>"
            ]
          },
          "metadata": {},
          "execution_count": 43
        }
      ]
    },
    {
      "cell_type": "markdown",
      "metadata": {
        "id": "b4nsCjI-j87N"
      },
      "source": [
        "**Q04:** จากข้อมูลในไฟล์ Movies.xlsx ที่ได้ข้างต้น จงเขียนคำสั่ง เพื่อหา\n",
        "\n",
        "1. ต้องการทราบจำนวนการจองที่นั่งทั้งหมดของภาพยนต์แต่ละเรื่อง แต่ละรอบ\n",
        "2. ต้องการทราบจำนวนการจองที่นั่งทั้งหมดของภาพยนต์แต่ละเรื่อง"
      ]
    },
    {
      "cell_type": "code",
      "metadata": {
        "id": "DbP6xjWAj9p4",
        "colab": {
          "base_uri": "https://localhost:8080/",
          "height": 363
        },
        "outputId": "8627706b-0886-462b-d610-1073d6feee68"
      },
      "source": [
        "data[['movie_name','reserve_movie','Number_day']].style.hide_index()"
      ],
      "execution_count": null,
      "outputs": [
        {
          "output_type": "execute_result",
          "data": {
            "text/html": [
              "<style  type=\"text/css\" >\n",
              "</style><table id=\"T_766e5da8_4ed8_11ec_89e7_0242ac1c0002\" class=\"dataframe\"><thead>    <tr>        <th class=\"col_heading level0 col0\" >movie_name</th>        <th class=\"col_heading level0 col1\" >reserve_movie</th>        <th class=\"col_heading level0 col2\" >Number_day</th>    </tr></thead><tbody>\n",
              "                <tr>\n",
              "                                <td id=\"T_766e5da8_4ed8_11ec_89e7_0242ac1c0002row0_col0\" class=\"data row0 col0\" >Wild child</td>\n",
              "                        <td id=\"T_766e5da8_4ed8_11ec_89e7_0242ac1c0002row0_col1\" class=\"data row0 col1\" >22 seat</td>\n",
              "                        <td id=\"T_766e5da8_4ed8_11ec_89e7_0242ac1c0002row0_col2\" class=\"data row0 col2\" >1 round</td>\n",
              "            </tr>\n",
              "            <tr>\n",
              "                                <td id=\"T_766e5da8_4ed8_11ec_89e7_0242ac1c0002row1_col0\" class=\"data row1 col0\" >She’s the Man</td>\n",
              "                        <td id=\"T_766e5da8_4ed8_11ec_89e7_0242ac1c0002row1_col1\" class=\"data row1 col1\" >14 seat</td>\n",
              "                        <td id=\"T_766e5da8_4ed8_11ec_89e7_0242ac1c0002row1_col2\" class=\"data row1 col2\" >1 round</td>\n",
              "            </tr>\n",
              "            <tr>\n",
              "                                <td id=\"T_766e5da8_4ed8_11ec_89e7_0242ac1c0002row2_col0\" class=\"data row2 col0\" >A Cinderella Story</td>\n",
              "                        <td id=\"T_766e5da8_4ed8_11ec_89e7_0242ac1c0002row2_col1\" class=\"data row2 col1\" >36 seat</td>\n",
              "                        <td id=\"T_766e5da8_4ed8_11ec_89e7_0242ac1c0002row2_col2\" class=\"data row2 col2\" >1 round</td>\n",
              "            </tr>\n",
              "            <tr>\n",
              "                                <td id=\"T_766e5da8_4ed8_11ec_89e7_0242ac1c0002row3_col0\" class=\"data row3 col0\" >Easy A</td>\n",
              "                        <td id=\"T_766e5da8_4ed8_11ec_89e7_0242ac1c0002row3_col1\" class=\"data row3 col1\" >42 seat</td>\n",
              "                        <td id=\"T_766e5da8_4ed8_11ec_89e7_0242ac1c0002row3_col2\" class=\"data row3 col2\" >1 round</td>\n",
              "            </tr>\n",
              "            <tr>\n",
              "                                <td id=\"T_766e5da8_4ed8_11ec_89e7_0242ac1c0002row4_col0\" class=\"data row4 col0\" >Mean Girls</td>\n",
              "                        <td id=\"T_766e5da8_4ed8_11ec_89e7_0242ac1c0002row4_col1\" class=\"data row4 col1\" >34 seat</td>\n",
              "                        <td id=\"T_766e5da8_4ed8_11ec_89e7_0242ac1c0002row4_col2\" class=\"data row4 col2\" >1 round</td>\n",
              "            </tr>\n",
              "            <tr>\n",
              "                                <td id=\"T_766e5da8_4ed8_11ec_89e7_0242ac1c0002row5_col0\" class=\"data row5 col0\" >Legally Blonde</td>\n",
              "                        <td id=\"T_766e5da8_4ed8_11ec_89e7_0242ac1c0002row5_col1\" class=\"data row5 col1\" >46 seat</td>\n",
              "                        <td id=\"T_766e5da8_4ed8_11ec_89e7_0242ac1c0002row5_col2\" class=\"data row5 col2\" >1 round</td>\n",
              "            </tr>\n",
              "            <tr>\n",
              "                                <td id=\"T_766e5da8_4ed8_11ec_89e7_0242ac1c0002row6_col0\" class=\"data row6 col0\" >Bridesmaids</td>\n",
              "                        <td id=\"T_766e5da8_4ed8_11ec_89e7_0242ac1c0002row6_col1\" class=\"data row6 col1\" >22 seat</td>\n",
              "                        <td id=\"T_766e5da8_4ed8_11ec_89e7_0242ac1c0002row6_col2\" class=\"data row6 col2\" >1 round</td>\n",
              "            </tr>\n",
              "            <tr>\n",
              "                                <td id=\"T_766e5da8_4ed8_11ec_89e7_0242ac1c0002row7_col0\" class=\"data row7 col0\" >50 First Date</td>\n",
              "                        <td id=\"T_766e5da8_4ed8_11ec_89e7_0242ac1c0002row7_col1\" class=\"data row7 col1\" >14 seat</td>\n",
              "                        <td id=\"T_766e5da8_4ed8_11ec_89e7_0242ac1c0002row7_col2\" class=\"data row7 col2\" >1 round</td>\n",
              "            </tr>\n",
              "            <tr>\n",
              "                                <td id=\"T_766e5da8_4ed8_11ec_89e7_0242ac1c0002row8_col0\" class=\"data row8 col0\" >27 Dresses</td>\n",
              "                        <td id=\"T_766e5da8_4ed8_11ec_89e7_0242ac1c0002row8_col1\" class=\"data row8 col1\" >16 seat</td>\n",
              "                        <td id=\"T_766e5da8_4ed8_11ec_89e7_0242ac1c0002row8_col2\" class=\"data row8 col2\" >1 round</td>\n",
              "            </tr>\n",
              "            <tr>\n",
              "                                <td id=\"T_766e5da8_4ed8_11ec_89e7_0242ac1c0002row9_col0\" class=\"data row9 col0\" >Juno</td>\n",
              "                        <td id=\"T_766e5da8_4ed8_11ec_89e7_0242ac1c0002row9_col1\" class=\"data row9 col1\" >32 seat</td>\n",
              "                        <td id=\"T_766e5da8_4ed8_11ec_89e7_0242ac1c0002row9_col2\" class=\"data row9 col2\" >1 round</td>\n",
              "            </tr>\n",
              "    </tbody></table>"
            ],
            "text/plain": [
              "<pandas.io.formats.style.Styler at 0x7fda3de62150>"
            ]
          },
          "metadata": {},
          "execution_count": 44
        }
      ]
    },
    {
      "cell_type": "code",
      "metadata": {
        "colab": {
          "base_uri": "https://localhost:8080/",
          "height": 363
        },
        "id": "U4-almIxCrgV",
        "outputId": "47565350-5790-4720-fd43-d301072f7239"
      },
      "source": [
        "data[['movie_name','reserve_movie']].style.hide_index()"
      ],
      "execution_count": null,
      "outputs": [
        {
          "output_type": "execute_result",
          "data": {
            "text/html": [
              "<style  type=\"text/css\" >\n",
              "</style><table id=\"T_5fcf13b8_4ed7_11ec_89e7_0242ac1c0002\" class=\"dataframe\"><thead>    <tr>        <th class=\"col_heading level0 col0\" >movie_name</th>        <th class=\"col_heading level0 col1\" >reserve_movie</th>    </tr></thead><tbody>\n",
              "                <tr>\n",
              "                                <td id=\"T_5fcf13b8_4ed7_11ec_89e7_0242ac1c0002row0_col0\" class=\"data row0 col0\" >Wild child</td>\n",
              "                        <td id=\"T_5fcf13b8_4ed7_11ec_89e7_0242ac1c0002row0_col1\" class=\"data row0 col1\" >22 seat</td>\n",
              "            </tr>\n",
              "            <tr>\n",
              "                                <td id=\"T_5fcf13b8_4ed7_11ec_89e7_0242ac1c0002row1_col0\" class=\"data row1 col0\" >She’s the Man</td>\n",
              "                        <td id=\"T_5fcf13b8_4ed7_11ec_89e7_0242ac1c0002row1_col1\" class=\"data row1 col1\" >14 seat</td>\n",
              "            </tr>\n",
              "            <tr>\n",
              "                                <td id=\"T_5fcf13b8_4ed7_11ec_89e7_0242ac1c0002row2_col0\" class=\"data row2 col0\" >A Cinderella Story</td>\n",
              "                        <td id=\"T_5fcf13b8_4ed7_11ec_89e7_0242ac1c0002row2_col1\" class=\"data row2 col1\" >36 seat</td>\n",
              "            </tr>\n",
              "            <tr>\n",
              "                                <td id=\"T_5fcf13b8_4ed7_11ec_89e7_0242ac1c0002row3_col0\" class=\"data row3 col0\" >Easy A</td>\n",
              "                        <td id=\"T_5fcf13b8_4ed7_11ec_89e7_0242ac1c0002row3_col1\" class=\"data row3 col1\" >42 seat</td>\n",
              "            </tr>\n",
              "            <tr>\n",
              "                                <td id=\"T_5fcf13b8_4ed7_11ec_89e7_0242ac1c0002row4_col0\" class=\"data row4 col0\" >Mean Girls</td>\n",
              "                        <td id=\"T_5fcf13b8_4ed7_11ec_89e7_0242ac1c0002row4_col1\" class=\"data row4 col1\" >34 seat</td>\n",
              "            </tr>\n",
              "            <tr>\n",
              "                                <td id=\"T_5fcf13b8_4ed7_11ec_89e7_0242ac1c0002row5_col0\" class=\"data row5 col0\" >Legally Blonde</td>\n",
              "                        <td id=\"T_5fcf13b8_4ed7_11ec_89e7_0242ac1c0002row5_col1\" class=\"data row5 col1\" >46 seat</td>\n",
              "            </tr>\n",
              "            <tr>\n",
              "                                <td id=\"T_5fcf13b8_4ed7_11ec_89e7_0242ac1c0002row6_col0\" class=\"data row6 col0\" >Bridesmaids</td>\n",
              "                        <td id=\"T_5fcf13b8_4ed7_11ec_89e7_0242ac1c0002row6_col1\" class=\"data row6 col1\" >22 seat</td>\n",
              "            </tr>\n",
              "            <tr>\n",
              "                                <td id=\"T_5fcf13b8_4ed7_11ec_89e7_0242ac1c0002row7_col0\" class=\"data row7 col0\" >50 First Date</td>\n",
              "                        <td id=\"T_5fcf13b8_4ed7_11ec_89e7_0242ac1c0002row7_col1\" class=\"data row7 col1\" >14 seat</td>\n",
              "            </tr>\n",
              "            <tr>\n",
              "                                <td id=\"T_5fcf13b8_4ed7_11ec_89e7_0242ac1c0002row8_col0\" class=\"data row8 col0\" >27 Dresses</td>\n",
              "                        <td id=\"T_5fcf13b8_4ed7_11ec_89e7_0242ac1c0002row8_col1\" class=\"data row8 col1\" >16 seat</td>\n",
              "            </tr>\n",
              "            <tr>\n",
              "                                <td id=\"T_5fcf13b8_4ed7_11ec_89e7_0242ac1c0002row9_col0\" class=\"data row9 col0\" >Juno</td>\n",
              "                        <td id=\"T_5fcf13b8_4ed7_11ec_89e7_0242ac1c0002row9_col1\" class=\"data row9 col1\" >32 seat</td>\n",
              "            </tr>\n",
              "    </tbody></table>"
            ],
            "text/plain": [
              "<pandas.io.formats.style.Styler at 0x7fda3de18410>"
            ]
          },
          "metadata": {},
          "execution_count": 27
        }
      ]
    }
  ]
}