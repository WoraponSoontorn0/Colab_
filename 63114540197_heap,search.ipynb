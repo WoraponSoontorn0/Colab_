{
  "nbformat": 4,
  "nbformat_minor": 0,
  "metadata": {
    "colab": {
      "provenance": []
    },
    "kernelspec": {
      "name": "python3",
      "display_name": "Python 3"
    }
  },
  "cells": [
    {
      "cell_type": "markdown",
      "metadata": {
        "id": "8ZFFoaTPrmcO"
      },
      "source": [
        "Today Task.\n",
        "1. Implementing Binary Heap.\n",
        "2. Priority Queue in Python.\n",
        "3. Test Binary Search.\n",
        "4. Binary Search in Python.\n",
        "5. Implement Hash function.\n",
        "6. Homework."
      ]
    },
    {
      "cell_type": "markdown",
      "metadata": {
        "id": "ANDEwZlHsQIM"
      },
      "source": [
        "**Implementing Binary Heap.**\n",
        "\n",
        "We can use array ( List ) to easy implementation.\n",
        "\n",
        "index 0 = root\n",
        "\n",
        "index 1, 2 = index 0's children\n",
        "\n",
        "index 3, 4 = index 1's children\n",
        "\n",
        "index 5, 6 = index 2's children\n",
        "\n",
        "index 2*n+1, 2*n+2 = index n's children <==> index n//2 is index n's parent\n",
        "\n",
        "===> insert data is append data in list\n",
        "\n"
      ]
    },
    {
      "cell_type": "code",
      "metadata": {
        "id": "D3oR0XtesvQI"
      },
      "source": [
        "class BinaryHeap:\n",
        "  def __init__(self):\n",
        "    self.ListData = []\n",
        "    self.size = 0\n",
        "\n",
        "  def output(self):\n",
        "    return self.ListData\n",
        "\n",
        "  def insert(self, data):\n",
        "    self.ListData.append(data)\n",
        "    self.size += 1\n",
        "    #compare with parent\n",
        "    nowIndex = self.size-1\n",
        "    while nowIndex > 0: #index 0 is root node\n",
        "      parent = (nowIndex-1)//2\n",
        "      if self.ListData[parent] < self.ListData[nowIndex]:\n",
        "        self.ListData[parent],self.ListData[nowIndex] = self.ListData[nowIndex], self.ListData[parent]\n",
        "      else:\n",
        "        break\n",
        "      nowIndex = parent\n",
        "\n",
        "  def delete(self):\n",
        "    self.ListData[0],self.ListData[self.size-1] = self.ListData[self.size-1],self.ListData[0] #swap data\n",
        "    self.ListData.pop()  # delete last element\n",
        "    self.size -= 1\n",
        "    nowIndex = 0\n",
        "    while nowIndex < self.size:\n",
        "      leftChild = 2*nowIndex + 1\n",
        "      rightChild = 2*nowIndex + 2\n",
        "      if rightChild < self.size and self.ListData[rightChild] > self.ListData[leftChild] and self.ListData[rightChild] > self.ListData[nowIndex]:\n",
        "        self.ListData[nowIndex],self.ListData[rightChild] = self.ListData[rightChild],self.ListData[nowIndex]\n",
        "        nowIndex = rightChild\n",
        "      elif leftChild < self.size and self.ListData[leftChild] > self.ListData[nowIndex]:\n",
        "        self.ListData[nowIndex],self.ListData[leftChild] = self.ListData[leftChild],self.ListData[nowIndex]\n",
        "        nowIndex = leftChild\n",
        "      else:\n",
        "        break\n",
        "  def pop_data(self):\n",
        "    data = self.ListData[0]\n",
        "    self.delete()\n",
        "    return data"
      ],
      "execution_count": null,
      "outputs": []
    },
    {
      "cell_type": "code",
      "metadata": {
        "colab": {
          "base_uri": "https://localhost:8080/"
        },
        "id": "5tD0PN19zX9I",
        "outputId": "938e003c-fbe2-4b4a-d151-927f4591b957"
      },
      "source": [
        "heap = BinaryHeap()\n",
        "heap.insert(9)\n",
        "print(heap.output())\n",
        "heap.insert(23)\n",
        "print(heap.output())\n",
        "heap.insert(15)\n",
        "print(heap.output())\n",
        "heap.insert(4)\n",
        "print(heap.output())\n",
        "heap.insert(534)\n",
        "print(heap.output())\n",
        "heap.insert(1)\n",
        "print(heap.output())\n",
        "heap.insert(535)\n",
        "print(heap.output())\n",
        "heap.insert(666)\n",
        "print(heap.output())\n",
        "heap.insert(234)\n",
        "print(heap.output())\n",
        "heap.insert(789)\n",
        "print(heap.output())"
      ],
      "execution_count": null,
      "outputs": [
        {
          "output_type": "stream",
          "text": [
            "[9]\n",
            "[23, 9]\n",
            "[23, 9, 15]\n",
            "[23, 9, 15, 4]\n",
            "[534, 23, 15, 4, 9]\n",
            "[534, 23, 15, 4, 9, 1]\n",
            "[535, 23, 534, 4, 9, 1, 15]\n",
            "[666, 535, 534, 23, 9, 1, 15, 4]\n",
            "[666, 535, 534, 234, 9, 1, 15, 4, 23]\n",
            "[789, 666, 534, 234, 535, 1, 15, 4, 23, 9]\n"
          ],
          "name": "stdout"
        }
      ]
    },
    {
      "cell_type": "code",
      "metadata": {
        "colab": {
          "base_uri": "https://localhost:8080/"
        },
        "id": "yIfmBh8B1sFs",
        "outputId": "731a5cd1-4bcb-49e2-c122-0968eee5b03d"
      },
      "source": [
        "print(heap.pop_data())\n",
        "print(heap.output())"
      ],
      "execution_count": null,
      "outputs": [
        {
          "output_type": "stream",
          "text": [
            "789\n",
            "[666, 535, 534, 234, 9, 1, 15, 4, 23]\n"
          ],
          "name": "stdout"
        }
      ]
    },
    {
      "cell_type": "markdown",
      "metadata": {
        "id": "SGAiwYT4x-2l"
      },
      "source": [
        "**Priority Queue in Python**.\n",
        "\n",
        "default is min heap\n",
        "\n",
        "https://docs.python.org/3/library/heapq.html"
      ]
    },
    {
      "cell_type": "code",
      "metadata": {
        "colab": {
          "base_uri": "https://localhost:8080/"
        },
        "id": "5MKMenED39he",
        "outputId": "2ddd42d6-2457-4202-b5f8-eb63ba281eaa"
      },
      "source": [
        "import heapq\n",
        "testheap = []\n",
        "heapq.heappush(testheap, (5, 'write code'))\n",
        "heapq.heappush(testheap, (3, 'test code'))\n",
        "heapq.heappush(testheap, (1, 'run code'))\n",
        "print(testheap)"
      ],
      "execution_count": null,
      "outputs": [
        {
          "output_type": "stream",
          "text": [
            "[(1, 'run code'), (5, 'write code'), (3, 'test code')]\n"
          ],
          "name": "stdout"
        }
      ]
    },
    {
      "cell_type": "markdown",
      "metadata": {
        "id": "EnnxUFt5yqtq"
      },
      "source": [
        "**Test Binary Search**"
      ]
    },
    {
      "cell_type": "code",
      "metadata": {
        "colab": {
          "base_uri": "https://localhost:8080/"
        },
        "id": "2n5AUxs8zBrJ",
        "outputId": "1efe5726-b1cf-4727-83a1-c545007fb75c"
      },
      "source": [
        "def BinarySearch(Lst, data):\n",
        "  Lst.sort()\n",
        "  start = 0   #start index\n",
        "  last = len(Lst) #last index\n",
        "  while start < last:\n",
        "    mid = (start+last)//2   #point index\n",
        "    if Lst[mid] > data:\n",
        "      last = mid\n",
        "    elif Lst[mid] < data:\n",
        "      start = mid+1\n",
        "    else:\n",
        "      return True\n",
        "  return False\n",
        "\n",
        "dat = [1,3,4,5,7,8,11,14,76,12,85,33]\n",
        "print(BinarySearch(dat,15)) #O(logN)\n",
        "print(3 in dat)   #O(N)"
      ],
      "execution_count": null,
      "outputs": [
        {
          "output_type": "stream",
          "text": [
            "False\n",
            "True\n"
          ],
          "name": "stdout"
        }
      ]
    },
    {
      "cell_type": "markdown",
      "metadata": {
        "id": "R-WEObyO1zVT"
      },
      "source": [
        "**Binary Search in Python**\n",
        "\n",
        "\n",
        "https://www.geeksforgeeks.org/binary-search-bisect-in-python/"
      ]
    },
    {
      "cell_type": "markdown",
      "metadata": {
        "id": "Iy61WhDd27Zb"
      },
      "source": [
        "**Implement Hash function**"
      ]
    },
    {
      "cell_type": "code",
      "metadata": {
        "id": "2mCAb67t6REQ"
      },
      "source": [
        "class Hash:\n",
        "  def __init__ (self):\n",
        "    self.Lst = [false]*100010\n",
        "    self.size = 100010\n",
        "    self.numdata = 0\n",
        "    self.Hashfunction = 100001\n",
        "  def insert(self,data):\n",
        "    hash = data%self.Hashfunction\n",
        "    self.Lst[hash] = data\n",
        "  def find(self,data)\n",
        "    hash = data%self.Hashfunction\n",
        "    if self.Lst[hash] == data:\n",
        "      return True\n",
        "    return False\n"
      ],
      "execution_count": null,
      "outputs": []
    },
    {
      "cell_type": "markdown",
      "metadata": {
        "id": "kgsjKRRI7LHd"
      },
      "source": [
        "**Homework**\n",
        "\n",
        "1. Implement Hash function ส่วนการชนกัน\n",
        "\n",
        "    มี 3 วิธี\n",
        "    0. chaining คือใส่ใน LinkList ถ้ามันชนกัน\n",
        "    1. ใช้สมการคำนวนใหม่ทุกครั้งที่ฃนกัน ตามสไลด์หน้าที่ 24\n",
        "    2. ใช้สมการคำนวนใหม่ทุกครั้งที่ชนกัน ตามหน้าที่ 25\n",
        "\n",
        "ให้ทำมา วิธีเดียว เอารหัสนักศึกษามา  mod 3 ได้ผลลัพธ์อะไร ทำวิธีนัั้น"
      ]
    },
    {
      "cell_type": "code",
      "metadata": {
        "colab": {
          "base_uri": "https://localhost:8080/"
        },
        "id": "HDhufhjMSbf3",
        "outputId": "2a2f5107-0d0b-4db6-af02-2e838362dae1"
      },
      "source": [
        "print(63114540197%3)"
      ],
      "execution_count": null,
      "outputs": [
        {
          "output_type": "stream",
          "text": [
            "2\n"
          ],
          "name": "stdout"
        }
      ]
    }
  ]
}